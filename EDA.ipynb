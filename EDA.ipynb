{
 "cells": [
  {
   "cell_type": "code",
   "execution_count": 2,
   "metadata": {},
   "outputs": [],
   "source": [
    "from selenium.webdriver import Chrome\n",
    "from selenium.webdriver.common.keys import Keys\n",
    "from selenium.webdriver.common.action_chains import ActionChains\n",
    "from selenium.webdriver.support.ui import Select\n",
    "\n",
    "import pandas as pd \n",
    "import numpy as np"
   ]
  },
  {
   "cell_type": "code",
   "execution_count": 3,
   "metadata": {},
   "outputs": [],
   "source": [
    "browser = Chrome()"
   ]
  },
  {
   "cell_type": "code",
   "execution_count": 4,
   "metadata": {},
   "outputs": [],
   "source": [
    "url = 'https://www1.ticketmaster.com/event/Z7r9jZ1Aeueuy?routing=y&tmrid=TMR-2342379&tm_link=tm_homeA_header_search'\n",
    "sel = 'button.landing-modal-footer__see-tickets-button'"
   ]
  },
  {
   "cell_type": "code",
   "execution_count": 5,
   "metadata": {},
   "outputs": [],
   "source": [
    "browser.get(url)"
   ]
  },
  {
   "cell_type": "code",
   "execution_count": 6,
   "metadata": {},
   "outputs": [],
   "source": [
    "browser.find_element_by_css_selector(sel).click()"
   ]
  },
  {
   "cell_type": "code",
   "execution_count": 7,
   "metadata": {},
   "outputs": [],
   "source": [
    "tickets = browser.find_elements_by_css_selector('span.quick-picks__item-desc')"
   ]
  },
  {
   "cell_type": "code",
   "execution_count": 8,
   "metadata": {},
   "outputs": [
    {
     "data": {
      "text/plain": [
       "299"
      ]
     },
     "execution_count": 8,
     "metadata": {},
     "output_type": "execute_result"
    }
   ],
   "source": [
    "len(tickets)"
   ]
  },
  {
   "cell_type": "code",
   "execution_count": 17,
   "metadata": {},
   "outputs": [],
   "source": [
    "all_tickets = []\n",
    "for tic in tickets:\n",
    "    sec = tic.text.split(',')[0].split(' ')[-1]\n",
    "    row = tic.text.split(', ')[-1].split(' ')[-1]\n",
    "    curr = {'Section': sec, 'Row': row}\n",
    "    all_tickets.append(curr)"
   ]
  },
  {
   "cell_type": "code",
   "execution_count": 18,
   "metadata": {},
   "outputs": [],
   "source": [
    "all_tickets[31]['Row'] = '18'"
   ]
  },
  {
   "cell_type": "code",
   "execution_count": 19,
   "metadata": {},
   "outputs": [],
   "source": [
    "for ticket in all_tickets:\n",
    "    ticket['Row'] = int(ticket['Row'])\n",
    "    ticket['Section'] = int(ticket['Section'])"
   ]
  },
  {
   "cell_type": "code",
   "execution_count": 11,
   "metadata": {},
   "outputs": [],
   "source": [
    "covered = []\n",
    "covered.extend(range(201, 212))\n",
    "covered.extend(range(225, 235))\n",
    "covered.extend(range(301, 312))\n",
    "covered.extend(range(325, 334))"
   ]
  },
  {
   "cell_type": "code",
   "execution_count": 20,
   "metadata": {},
   "outputs": [],
   "source": [
    "for ticket in all_tickets:\n",
    "    if ticket['Section'] in covered:\n",
    "        ticket['Covered'] = 1\n",
    "    else: \n",
    "        ticket['Covered'] = 0"
   ]
  },
  {
   "cell_type": "code",
   "execution_count": 26,
   "metadata": {},
   "outputs": [],
   "source": [
    "beer_rating = {10: [234, 201, 301, 101, 135, 136, 137, 138, 139, 133], \n",
    "               9: [333, 233, 302, 202, 132, 102], \n",
    "               8: [332, 232, 302, 202, 131, 103], \n",
    "               7: [331, 231, 303, 203, 130, 104], \n",
    "               6: [330, 230, 304, 204, 129, 105], \n",
    "               5: [329, 229, 305, 205, 128, 106], \n",
    "               4: [328, 228, 306, 206, 127, 107], \n",
    "               3: [327, 227, 307, 207, 126, 108], \n",
    "               2: [326, 226, 308, 208, 125, 109], \n",
    "               1: [325, 225, 309, 310, 311, 209, 210, 211, \n",
    "                   125, 224, 223, 222, 221, 220, 219, 218,\n",
    "                   217, 216, 215, 214, 213, 212, 122, 121, \n",
    "                   120, 119, 118, 117, 116, 115, 115, 110]}"
   ]
  },
  {
   "cell_type": "code",
   "execution_count": 27,
   "metadata": {},
   "outputs": [],
   "source": [
    "for ticket in all_tickets:\n",
    "    sec = ticket['Section']\n",
    "    for key in beer_rating.keys():\n",
    "        if sec in beer_rating[key]:\n",
    "            ticket['Beer_Rating'] = key"
   ]
  },
  {
   "cell_type": "code",
   "execution_count": 28,
   "metadata": {},
   "outputs": [
    {
     "data": {
      "text/plain": [
       "[{'Beer_Rating': 10, 'Covered': 1, 'Row': 40, 'Section': 301},\n",
       " {'Beer_Rating': 1, 'Covered': 1, 'Row': 34, 'Section': 311},\n",
       " {'Beer_Rating': 1, 'Covered': 1, 'Row': 36, 'Section': 311},\n",
       " {'Beer_Rating': 1, 'Covered': 1, 'Row': 64, 'Section': 325},\n",
       " {'Beer_Rating': 8, 'Covered': 1, 'Row': 67, 'Section': 332},\n",
       " {'Beer_Rating': 9, 'Covered': 1, 'Row': 63, 'Section': 333},\n",
       " {'Beer_Rating': 8, 'Covered': 1, 'Row': 36, 'Section': 302},\n",
       " {'Beer_Rating': 1, 'Covered': 1, 'Row': 31, 'Section': 311},\n",
       " {'Beer_Rating': 1, 'Covered': 1, 'Row': 37, 'Section': 310},\n",
       " {'Beer_Rating': 1, 'Covered': 1, 'Row': 36, 'Section': 325},\n",
       " {'Beer_Rating': 9, 'Covered': 1, 'Row': 59, 'Section': 333},\n",
       " {'Beer_Rating': 10, 'Covered': 1, 'Row': 30, 'Section': 301},\n",
       " {'Beer_Rating': 8, 'Covered': 1, 'Row': 30, 'Section': 302},\n",
       " {'Beer_Rating': 1, 'Covered': 1, 'Row': 31, 'Section': 310},\n",
       " {'Beer_Rating': 8, 'Covered': 1, 'Row': 65, 'Section': 332},\n",
       " {'Beer_Rating': 8, 'Covered': 1, 'Row': 65, 'Section': 332},\n",
       " {'Beer_Rating': 1, 'Covered': 1, 'Row': 63, 'Section': 325},\n",
       " {'Beer_Rating': 9, 'Covered': 1, 'Row': 45, 'Section': 333},\n",
       " {'Beer_Rating': 9, 'Covered': 1, 'Row': 64, 'Section': 333},\n",
       " {'Beer_Rating': 8, 'Covered': 1, 'Row': 29, 'Section': 302},\n",
       " {'Beer_Rating': 8, 'Covered': 1, 'Row': 63, 'Section': 332},\n",
       " {'Beer_Rating': 8, 'Covered': 1, 'Row': 63, 'Section': 332},\n",
       " {'Beer_Rating': 8, 'Covered': 1, 'Row': 64, 'Section': 332},\n",
       " {'Beer_Rating': 8, 'Covered': 1, 'Row': 66, 'Section': 332},\n",
       " {'Beer_Rating': 9, 'Covered': 1, 'Row': 65, 'Section': 333},\n",
       " {'Beer_Rating': 8, 'Covered': 1, 'Row': 61, 'Section': 332},\n",
       " {'Beer_Rating': 8, 'Covered': 1, 'Row': 64, 'Section': 332},\n",
       " {'Beer_Rating': 1, 'Covered': 1, 'Row': 40, 'Section': 310},\n",
       " {'Beer_Rating': 1, 'Covered': 1, 'Row': 53, 'Section': 325},\n",
       " {'Beer_Rating': 2, 'Covered': 1, 'Row': 29, 'Section': 326},\n",
       " {'Beer_Rating': 8, 'Covered': 1, 'Row': 62, 'Section': 332},\n",
       " {'Beer_Rating': 10, 'Covered': 1, 'Row': 18, 'Section': 301},\n",
       " {'Beer_Rating': 8, 'Covered': 1, 'Row': 28, 'Section': 302},\n",
       " {'Beer_Rating': 2, 'Covered': 1, 'Row': 22, 'Section': 326},\n",
       " {'Beer_Rating': 8, 'Covered': 1, 'Row': 33, 'Section': 302},\n",
       " {'Beer_Rating': 8, 'Covered': 1, 'Row': 29, 'Section': 332},\n",
       " {'Beer_Rating': 1, 'Covered': 1, 'Row': 29, 'Section': 310},\n",
       " {'Beer_Rating': 1, 'Covered': 1, 'Row': 30, 'Section': 310},\n",
       " {'Beer_Rating': 10, 'Covered': 1, 'Row': 13, 'Section': 301},\n",
       " {'Beer_Rating': 8, 'Covered': 1, 'Row': 27, 'Section': 302},\n",
       " {'Beer_Rating': 2, 'Covered': 1, 'Row': 24, 'Section': 326},\n",
       " {'Beer_Rating': 8, 'Covered': 1, 'Row': 26, 'Section': 302},\n",
       " {'Beer_Rating': 9, 'Covered': 1, 'Row': 16, 'Section': 333},\n",
       " {'Beer_Rating': 10, 'Covered': 0, 'Row': 28, 'Section': 139},\n",
       " {'Beer_Rating': 1, 'Covered': 0, 'Row': 10, 'Section': 215},\n",
       " {'Beer_Rating': 8, 'Covered': 1, 'Row': 34, 'Section': 302},\n",
       " {'Beer_Rating': 9, 'Covered': 1, 'Row': 11, 'Section': 333},\n",
       " {'Beer_Rating': 9, 'Covered': 1, 'Row': 18, 'Section': 333},\n",
       " {'Beer_Rating': 10, 'Covered': 0, 'Row': 27, 'Section': 139},\n",
       " {'Beer_Rating': 1, 'Covered': 0, 'Row': 8, 'Section': 215},\n",
       " {'Beer_Rating': 1, 'Covered': 1, 'Row': 9, 'Section': 325},\n",
       " {'Beer_Rating': 3, 'Covered': 1, 'Row': 53, 'Section': 327},\n",
       " {'Beer_Rating': 10, 'Covered': 1, 'Row': 13, 'Section': 301},\n",
       " {'Beer_Rating': 10, 'Covered': 0, 'Row': 25, 'Section': 139},\n",
       " {'Beer_Rating': 1, 'Covered': 1, 'Row': 25, 'Section': 310},\n",
       " {'Beer_Rating': 9, 'Covered': 1, 'Row': 10, 'Section': 333},\n",
       " {'Beer_Rating': 9, 'Covered': 1, 'Row': 17, 'Section': 333},\n",
       " {'Beer_Rating': 9, 'Covered': 1, 'Row': 4, 'Section': 333},\n",
       " {'Beer_Rating': 10, 'Covered': 0, 'Row': 24, 'Section': 139},\n",
       " {'Beer_Rating': 1, 'Covered': 0, 'Row': 7, 'Section': 215},\n",
       " {'Beer_Rating': 10, 'Covered': 1, 'Row': 19, 'Section': 301},\n",
       " {'Beer_Rating': 1, 'Covered': 1, 'Row': 14, 'Section': 311},\n",
       " {'Beer_Rating': 10, 'Covered': 0, 'Row': 23, 'Section': 139},\n",
       " {'Beer_Rating': 1, 'Covered': 0, 'Row': 5, 'Section': 220},\n",
       " {'Beer_Rating': 8, 'Covered': 1, 'Row': 23, 'Section': 302},\n",
       " {'Beer_Rating': 7, 'Covered': 1, 'Row': 31, 'Section': 303},\n",
       " {'Beer_Rating': 1, 'Covered': 1, 'Row': 8, 'Section': 325},\n",
       " {'Beer_Rating': 10, 'Covered': 0, 'Row': 18, 'Section': 135},\n",
       " {'Beer_Rating': 10, 'Covered': 0, 'Row': 22, 'Section': 136},\n",
       " {'Beer_Rating': 10, 'Covered': 0, 'Row': 21, 'Section': 139},\n",
       " {'Beer_Rating': 1, 'Covered': 1, 'Row': 30, 'Section': 309},\n",
       " {'Beer_Rating': 1, 'Covered': 1, 'Row': 4, 'Section': 325},\n",
       " {'Beer_Rating': 9, 'Covered': 1, 'Row': 9, 'Section': 333},\n",
       " {'Beer_Rating': 10, 'Covered': 0, 'Row': 20, 'Section': 136},\n",
       " {'Beer_Rating': 10, 'Covered': 0, 'Row': 17, 'Section': 138},\n",
       " {'Beer_Rating': 1, 'Covered': 0, 'Row': 4, 'Section': 215},\n",
       " {'Beer_Rating': 10, 'Covered': 1, 'Row': 18, 'Section': 301},\n",
       " {'Beer_Rating': 7, 'Covered': 1, 'Row': 29, 'Section': 303},\n",
       " {'Beer_Rating': 9, 'Covered': 1, 'Row': 20, 'Section': 333},\n",
       " {'Beer_Rating': 10, 'Covered': 0, 'Row': 14, 'Section': 136},\n",
       " {'Beer_Rating': 10, 'Covered': 0, 'Row': 28, 'Section': 138},\n",
       " {'Beer_Rating': 1, 'Covered': 0, 'Row': 9, 'Section': 215},\n",
       " {'Beer_Rating': 7, 'Covered': 1, 'Row': 19, 'Section': 303},\n",
       " {'Beer_Rating': 1, 'Covered': 1, 'Row': 29, 'Section': 309},\n",
       " {'Beer_Rating': 1, 'Covered': 1, 'Row': 31, 'Section': 309},\n",
       " {'Beer_Rating': 7, 'Covered': 1, 'Row': 48, 'Section': 331},\n",
       " {'Beer_Rating': 1, 'Covered': 1, 'Row': 4, 'Section': 325},\n",
       " {'Beer_Rating': 10, 'Covered': 0, 'Row': 11, 'Section': 138},\n",
       " {'Beer_Rating': 1, 'Covered': 0, 'Row': 6, 'Section': 215},\n",
       " {'Beer_Rating': 7, 'Covered': 1, 'Row': 18, 'Section': 303},\n",
       " {'Beer_Rating': 1, 'Covered': 1, 'Row': 13, 'Section': 311},\n",
       " {'Beer_Rating': 1, 'Covered': 1, 'Row': 3, 'Section': 325},\n",
       " {'Beer_Rating': 9, 'Covered': 1, 'Row': 21, 'Section': 333},\n",
       " {'Beer_Rating': 9, 'Covered': 1, 'Row': 5, 'Section': 333},\n",
       " {'Beer_Rating': 9, 'Covered': 1, 'Row': 8, 'Section': 333},\n",
       " {'Beer_Rating': 10, 'Covered': 0, 'Row': 19, 'Section': 139},\n",
       " {'Beer_Rating': 10, 'Covered': 1, 'Row': 17, 'Section': 301},\n",
       " {'Beer_Rating': 7, 'Covered': 1, 'Row': 16, 'Section': 303},\n",
       " {'Beer_Rating': 9, 'Covered': 1, 'Row': 23, 'Section': 333},\n",
       " {'Beer_Rating': 9, 'Covered': 1, 'Row': 28, 'Section': 333},\n",
       " {'Beer_Rating': 7, 'Covered': 1, 'Row': 47, 'Section': 331},\n",
       " {'Beer_Rating': 7, 'Covered': 1, 'Row': 21, 'Section': 303},\n",
       " {'Beer_Rating': 1, 'Covered': 1, 'Row': 5, 'Section': 325},\n",
       " {'Beer_Rating': 10, 'Covered': 1, 'Row': 8, 'Section': 234},\n",
       " {'Beer_Rating': 1, 'Covered': 1, 'Row': 20, 'Section': 309},\n",
       " {'Beer_Rating': 1, 'Covered': 1, 'Row': 36, 'Section': 309},\n",
       " {'Beer_Rating': 10, 'Covered': 0, 'Row': 27, 'Section': 133},\n",
       " {'Beer_Rating': 6, 'Covered': 1, 'Row': 35, 'Section': 304},\n",
       " {'Beer_Rating': 1, 'Covered': 1, 'Row': 35, 'Section': 309},\n",
       " {'Beer_Rating': 7, 'Covered': 1, 'Row': 33, 'Section': 303},\n",
       " {'Beer_Rating': 6, 'Covered': 1, 'Row': 39, 'Section': 330},\n",
       " {'Beer_Rating': 7, 'Covered': 1, 'Row': 52, 'Section': 331},\n",
       " {'Beer_Rating': 7, 'Covered': 1, 'Row': 53, 'Section': 331},\n",
       " {'Beer_Rating': 8, 'Covered': 1, 'Row': 34, 'Section': 332},\n",
       " {'Beer_Rating': 10, 'Covered': 0, 'Row': 26, 'Section': 133},\n",
       " {'Beer_Rating': 9, 'Covered': 1, 'Row': 24, 'Section': 333},\n",
       " {'Beer_Rating': 2, 'Covered': 1, 'Row': 18, 'Section': 308},\n",
       " {'Beer_Rating': 2, 'Covered': 1, 'Row': 28, 'Section': 308},\n",
       " {'Beer_Rating': 1, 'Covered': 1, 'Row': 9, 'Section': 311},\n",
       " {'Beer_Rating': 6, 'Covered': 1, 'Row': 38, 'Section': 330},\n",
       " {'Beer_Rating': 7, 'Covered': 1, 'Row': 46, 'Section': 331},\n",
       " {'Beer_Rating': 7, 'Covered': 1, 'Row': 51, 'Section': 331},\n",
       " {'Beer_Rating': 7, 'Covered': 1, 'Row': 6, 'Section': 331},\n",
       " {'Beer_Rating': 10, 'Covered': 0, 'Row': 10, 'Section': 133},\n",
       " {'Beer_Rating': 10, 'Covered': 0, 'Row': 9, 'Section': 133},\n",
       " {'Beer_Rating': 10, 'Covered': 0, 'Row': 6, 'Section': 138},\n",
       " {'Beer_Rating': 2, 'Covered': 1, 'Row': 20, 'Section': 308},\n",
       " {'Beer_Rating': 10, 'Covered': 0, 'Row': 7, 'Section': 133},\n",
       " {'Beer_Rating': 10, 'Covered': 0, 'Row': 8, 'Section': 133},\n",
       " {'Beer_Rating': 10, 'Covered': 0, 'Row': 10, 'Section': 139},\n",
       " {'Beer_Rating': 10, 'Covered': 1, 'Row': 7, 'Section': 301},\n",
       " {'Beer_Rating': 6, 'Covered': 1, 'Row': 17, 'Section': 304},\n",
       " {'Beer_Rating': 3, 'Covered': 1, 'Row': 33, 'Section': 327},\n",
       " {'Beer_Rating': 7, 'Covered': 1, 'Row': 5, 'Section': 331},\n",
       " {'Beer_Rating': 10, 'Covered': 0, 'Row': 9, 'Section': 139},\n",
       " {'Beer_Rating': 2, 'Covered': 1, 'Row': 16, 'Section': 308},\n",
       " {'Beer_Rating': 7, 'Covered': 1, 'Row': 4, 'Section': 331},\n",
       " {'Beer_Rating': 10, 'Covered': 0, 'Row': 19, 'Section': 133},\n",
       " {'Beer_Rating': 10, 'Covered': 0, 'Row': 10, 'Section': 138},\n",
       " {'Beer_Rating': 10, 'Covered': 1, 'Row': 9, 'Section': 301},\n",
       " {'Beer_Rating': 5, 'Covered': 1, 'Row': 19, 'Section': 305},\n",
       " {'Beer_Rating': 2, 'Covered': 1, 'Row': 21, 'Section': 308},\n",
       " {'Beer_Rating': 3, 'Covered': 1, 'Row': 6, 'Section': 327},\n",
       " {'Beer_Rating': 1, 'Covered': 0, 'Row': 1, 'Section': 222},\n",
       " {'Beer_Rating': 6, 'Covered': 1, 'Row': 20, 'Section': 304},\n",
       " {'Beer_Rating': 10, 'Covered': 0, 'Row': 6, 'Section': 133},\n",
       " {'Beer_Rating': 10, 'Covered': 0, 'Row': 5, 'Section': 135},\n",
       " {'Beer_Rating': 10, 'Covered': 1, 'Row': 8, 'Section': 301},\n",
       " {'Beer_Rating': 9, 'Covered': 0, 'Row': 4, 'Section': 102},\n",
       " {'Beer_Rating': 4, 'Covered': 1, 'Row': 35, 'Section': 306},\n",
       " {'Beer_Rating': 1, 'Covered': 0, 'Row': 1, 'Section': 222},\n",
       " {'Beer_Rating': 1, 'Covered': 1, 'Row': 6, 'Section': 311},\n",
       " {'Beer_Rating': 6, 'Covered': 1, 'Row': 44, 'Section': 330},\n",
       " {'Beer_Rating': 9, 'Covered': 1, 'Row': 1, 'Section': 333},\n",
       " {'Beer_Rating': 3, 'Covered': 1, 'Row': 45, 'Section': 327},\n",
       " {'Beer_Rating': 9, 'Covered': 0, 'Row': 28, 'Section': 132},\n",
       " {'Beer_Rating': 4, 'Covered': 1, 'Row': 26, 'Section': 306},\n",
       " {'Beer_Rating': 2, 'Covered': 1, 'Row': 13, 'Section': 326},\n",
       " {'Beer_Rating': 2, 'Covered': 1, 'Row': 13, 'Section': 326},\n",
       " {'Beer_Rating': 10, 'Covered': 1, 'Row': 14, 'Section': 234},\n",
       " {'Beer_Rating': 4, 'Covered': 1, 'Row': 24, 'Section': 306},\n",
       " {'Beer_Rating': 5, 'Covered': 1, 'Row': 50, 'Section': 329},\n",
       " {'Beer_Rating': 2, 'Covered': 0, 'Row': 11, 'Section': 109},\n",
       " {'Beer_Rating': 1, 'Covered': 1, 'Row': 11, 'Section': 311},\n",
       " {'Beer_Rating': 3, 'Covered': 1, 'Row': 27, 'Section': 307},\n",
       " {'Beer_Rating': 7, 'Covered': 1, 'Row': 30, 'Section': 331},\n",
       " {'Beer_Rating': 10, 'Covered': 1, 'Row': 13, 'Section': 234},\n",
       " {'Beer_Rating': 5, 'Covered': 1, 'Row': 26, 'Section': 305},\n",
       " {'Beer_Rating': 10, 'Covered': 0, 'Row': 1, 'Section': 139},\n",
       " {'Beer_Rating': 9, 'Covered': 1, 'Row': 2, 'Section': 233},\n",
       " {'Beer_Rating': 5, 'Covered': 1, 'Row': 25, 'Section': 305},\n",
       " {'Beer_Rating': 3, 'Covered': 1, 'Row': 22, 'Section': 307},\n",
       " {'Beer_Rating': 3, 'Covered': 1, 'Row': 24, 'Section': 307},\n",
       " {'Beer_Rating': 5, 'Covered': 1, 'Row': 36, 'Section': 305},\n",
       " {'Beer_Rating': 3, 'Covered': 1, 'Row': 25, 'Section': 307},\n",
       " {'Beer_Rating': 3, 'Covered': 1, 'Row': 35, 'Section': 307},\n",
       " {'Beer_Rating': 9, 'Covered': 0, 'Row': 14, 'Section': 132},\n",
       " {'Beer_Rating': 9, 'Covered': 0, 'Row': 16, 'Section': 132},\n",
       " {'Beer_Rating': 2, 'Covered': 0, 'Row': 28, 'Section': 109},\n",
       " {'Beer_Rating': 1, 'Covered': 0, 'Row': 1, 'Section': 110},\n",
       " {'Beer_Rating': 9, 'Covered': 0, 'Row': 2, 'Section': 132},\n",
       " {'Beer_Rating': 9, 'Covered': 0, 'Row': 32, 'Section': 132},\n",
       " {'Beer_Rating': 9, 'Covered': 1, 'Row': 1, 'Section': 233},\n",
       " {'Beer_Rating': 9, 'Covered': 1, 'Row': 6, 'Section': 233},\n",
       " {'Beer_Rating': 5, 'Covered': 1, 'Row': 24, 'Section': 305},\n",
       " {'Beer_Rating': 8, 'Covered': 1, 'Row': 1, 'Section': 332},\n",
       " {'Beer_Rating': 10, 'Covered': 0, 'Row': 5, 'Section': 133},\n",
       " {'Beer_Rating': 8, 'Covered': 1, 'Row': 30, 'Section': 332},\n",
       " {'Beer_Rating': 6, 'Covered': 1, 'Row': 19, 'Section': 330},\n",
       " {'Beer_Rating': 9, 'Covered': 0, 'Row': 5, 'Section': 102},\n",
       " {'Beer_Rating': 9, 'Covered': 1, 'Row': 8, 'Section': 233},\n",
       " {'Beer_Rating': 6, 'Covered': 1, 'Row': 18, 'Section': 330},\n",
       " {'Beer_Rating': 6, 'Covered': 1, 'Row': 17, 'Section': 330},\n",
       " {'Beer_Rating': 9, 'Covered': 0, 'Row': 10, 'Section': 132},\n",
       " {'Beer_Rating': 3, 'Covered': 0, 'Row': 2, 'Section': 126},\n",
       " {'Beer_Rating': 6, 'Covered': 1, 'Row': 16, 'Section': 330},\n",
       " {'Beer_Rating': 5, 'Covered': 1, 'Row': 50, 'Section': 329},\n",
       " {'Beer_Rating': 8, 'Covered': 0, 'Row': 25, 'Section': 103},\n",
       " {'Beer_Rating': 3, 'Covered': 0, 'Row': 11, 'Section': 126},\n",
       " {'Beer_Rating': 3, 'Covered': 0, 'Row': 31, 'Section': 126},\n",
       " {'Beer_Rating': 9, 'Covered': 0, 'Row': 34, 'Section': 132},\n",
       " {'Beer_Rating': 1, 'Covered': 1, 'Row': 1, 'Section': 325},\n",
       " {'Beer_Rating': 4, 'Covered': 1, 'Row': 15, 'Section': 328},\n",
       " {'Beer_Rating': 9, 'Covered': 1, 'Row': 8, 'Section': 233},\n",
       " {'Beer_Rating': 8, 'Covered': 0, 'Row': 4, 'Section': 103},\n",
       " {'Beer_Rating': 3, 'Covered': 0, 'Row': 15, 'Section': 126},\n",
       " {'Beer_Rating': 4, 'Covered': 1, 'Row': 14, 'Section': 328},\n",
       " {'Beer_Rating': 9, 'Covered': 0, 'Row': 7, 'Section': 132},\n",
       " {'Beer_Rating': 6, 'Covered': 1, 'Row': 13, 'Section': 330},\n",
       " {'Beer_Rating': 9, 'Covered': 0, 'Row': 7, 'Section': 132},\n",
       " {'Beer_Rating': 6, 'Covered': 1, 'Row': 12, 'Section': 330},\n",
       " {'Beer_Rating': 6, 'Covered': 1, 'Row': 8, 'Section': 330},\n",
       " {'Beer_Rating': 2, 'Covered': 0, 'Row': 26, 'Section': 109},\n",
       " {'Beer_Rating': 9, 'Covered': 1, 'Row': 7, 'Section': 233},\n",
       " {'Beer_Rating': 6, 'Covered': 1, 'Row': 11, 'Section': 330},\n",
       " {'Beer_Rating': 4, 'Covered': 1, 'Row': 10, 'Section': 328},\n",
       " {'Beer_Rating': 10, 'Covered': 0, 'Row': 38, 'Section': 133},\n",
       " {'Beer_Rating': 3, 'Covered': 0, 'Row': 6, 'Section': 108},\n",
       " {'Beer_Rating': 8, 'Covered': 0, 'Row': 3, 'Section': 103},\n",
       " {'Beer_Rating': 3, 'Covered': 0, 'Row': 8, 'Section': 126},\n",
       " {'Beer_Rating': 4, 'Covered': 0, 'Row': 13, 'Section': 127},\n",
       " {'Beer_Rating': 8, 'Covered': 0, 'Row': 27, 'Section': 103},\n",
       " {'Beer_Rating': 4, 'Covered': 0, 'Row': 11, 'Section': 127},\n",
       " {'Beer_Rating': 10, 'Covered': 0, 'Row': 18, 'Section': 133},\n",
       " {'Beer_Rating': 3, 'Covered': 0, 'Row': 4, 'Section': 108},\n",
       " {'Beer_Rating': 4, 'Covered': 0, 'Row': 12, 'Section': 127},\n",
       " {'Beer_Rating': 1, 'Covered': 0, 'Row': 1, 'Section': 224},\n",
       " {'Beer_Rating': 3, 'Covered': 0, 'Row': 6, 'Section': 108},\n",
       " {'Beer_Rating': 8, 'Covered': 0, 'Row': 3, 'Section': 103},\n",
       " {'Beer_Rating': 7, 'Covered': 0, 'Row': 4, 'Section': 104},\n",
       " {'Beer_Rating': 9, 'Covered': 0, 'Row': 8, 'Section': 132},\n",
       " {'Beer_Rating': 8, 'Covered': 0, 'Row': 1, 'Section': 103},\n",
       " {'Beer_Rating': 9, 'Covered': 0, 'Row': 1, 'Section': 132},\n",
       " {'Beer_Rating': 7, 'Covered': 0, 'Row': 5, 'Section': 104},\n",
       " {'Beer_Rating': 9, 'Covered': 1, 'Row': 5, 'Section': 233},\n",
       " {'Beer_Rating': 7, 'Covered': 0, 'Row': 4, 'Section': 104},\n",
       " {'Beer_Rating': 8, 'Covered': 0, 'Row': 2, 'Section': 103},\n",
       " {'Beer_Rating': 3, 'Covered': 0, 'Row': 5, 'Section': 108},\n",
       " {'Beer_Rating': 8, 'Covered': 0, 'Row': 30, 'Section': 131},\n",
       " {'Beer_Rating': 8, 'Covered': 0, 'Row': 32, 'Section': 103},\n",
       " {'Beer_Rating': 2, 'Covered': 0, 'Row': 35, 'Section': 109},\n",
       " {'Beer_Rating': 9, 'Covered': 0, 'Row': 37, 'Section': 132},\n",
       " {'Beer_Rating': 10, 'Covered': 0, 'Row': 1, 'Section': 138},\n",
       " {'Beer_Rating': 7, 'Covered': 0, 'Row': 3, 'Section': 104},\n",
       " {'Beer_Rating': 3, 'Covered': 0, 'Row': 3, 'Section': 108},\n",
       " {'Beer_Rating': 7, 'Covered': 0, 'Row': 10, 'Section': 104},\n",
       " {'Beer_Rating': 4, 'Covered': 0, 'Row': 1, 'Section': 127},\n",
       " {'Beer_Rating': 10, 'Covered': 0, 'Row': 1, 'Section': 137},\n",
       " {'Beer_Rating': 6, 'Covered': 0, 'Row': 7, 'Section': 105},\n",
       " {'Beer_Rating': 6, 'Covered': 0, 'Row': 3, 'Section': 105},\n",
       " {'Beer_Rating': 6, 'Covered': 0, 'Row': 6, 'Section': 105},\n",
       " {'Beer_Rating': 4, 'Covered': 0, 'Row': 6, 'Section': 107},\n",
       " {'Beer_Rating': 6, 'Covered': 0, 'Row': 4, 'Section': 105},\n",
       " {'Beer_Rating': 4, 'Covered': 0, 'Row': 7, 'Section': 107},\n",
       " {'Beer_Rating': 6, 'Covered': 0, 'Row': 3, 'Section': 105},\n",
       " {'Beer_Rating': 7, 'Covered': 0, 'Row': 1, 'Section': 104},\n",
       " {'Beer_Rating': 3, 'Covered': 0, 'Row': 10, 'Section': 108},\n",
       " {'Beer_Rating': 7, 'Covered': 0, 'Row': 7, 'Section': 130},\n",
       " {'Beer_Rating': 6, 'Covered': 0, 'Row': 4, 'Section': 105},\n",
       " {'Beer_Rating': 4, 'Covered': 0, 'Row': 1, 'Section': 107},\n",
       " {'Beer_Rating': 7, 'Covered': 0, 'Row': 2, 'Section': 104},\n",
       " {'Beer_Rating': 5, 'Covered': 0, 'Row': 3, 'Section': 128},\n",
       " {'Beer_Rating': 5, 'Covered': 0, 'Row': 4, 'Section': 128},\n",
       " {'Beer_Rating': 7, 'Covered': 0, 'Row': 5, 'Section': 130},\n",
       " {'Beer_Rating': 6, 'Covered': 0, 'Row': 2, 'Section': 105},\n",
       " {'Beer_Rating': 7, 'Covered': 0, 'Row': 2, 'Section': 130},\n",
       " {'Beer_Rating': 7, 'Covered': 0, 'Row': 3, 'Section': 130},\n",
       " {'Beer_Rating': 7, 'Covered': 0, 'Row': 3, 'Section': 130},\n",
       " {'Beer_Rating': 6, 'Covered': 0, 'Row': 10, 'Section': 129},\n",
       " {'Beer_Rating': 6, 'Covered': 0, 'Row': 5, 'Section': 129},\n",
       " {'Beer_Rating': 3, 'Covered': 0, 'Row': 2, 'Section': 108},\n",
       " {'Beer_Rating': 7, 'Covered': 0, 'Row': 6, 'Section': 130},\n",
       " {'Beer_Rating': 5, 'Covered': 0, 'Row': 6, 'Section': 128},\n",
       " {'Beer_Rating': 2, 'Covered': 1, 'Row': 1, 'Section': 308},\n",
       " {'Beer_Rating': 5, 'Covered': 0, 'Row': 4, 'Section': 106},\n",
       " {'Beer_Rating': 6, 'Covered': 0, 'Row': 40, 'Section': 129},\n",
       " {'Beer_Rating': 5, 'Covered': 0, 'Row': 6, 'Section': 106},\n",
       " {'Beer_Rating': 6, 'Covered': 0, 'Row': 5, 'Section': 129},\n",
       " {'Beer_Rating': 3, 'Covered': 0, 'Row': 1, 'Section': 108},\n",
       " {'Beer_Rating': 6, 'Covered': 0, 'Row': 35, 'Section': 129},\n",
       " {'Beer_Rating': 6, 'Covered': 0, 'Row': 35, 'Section': 129},\n",
       " {'Beer_Rating': 5, 'Covered': 0, 'Row': 3, 'Section': 106},\n",
       " {'Beer_Rating': 5, 'Covered': 0, 'Row': 13, 'Section': 106},\n",
       " {'Beer_Rating': 5, 'Covered': 0, 'Row': 2, 'Section': 106},\n",
       " {'Beer_Rating': 6, 'Covered': 0, 'Row': 2, 'Section': 129},\n",
       " {'Beer_Rating': 6, 'Covered': 0, 'Row': 2, 'Section': 129},\n",
       " {'Beer_Rating': 8, 'Covered': 1, 'Row': 31, 'Section': 302},\n",
       " {'Beer_Rating': 8, 'Covered': 1, 'Row': 32, 'Section': 302},\n",
       " {'Beer_Rating': 5, 'Covered': 0, 'Row': 1, 'Section': 106},\n",
       " {'Beer_Rating': 5, 'Covered': 0, 'Row': 12, 'Section': 106},\n",
       " {'Beer_Rating': 6, 'Covered': 0, 'Row': 1, 'Section': 129},\n",
       " {'Beer_Rating': 5, 'Covered': 0, 'Row': 10, 'Section': 106},\n",
       " {'Beer_Rating': 5, 'Covered': 0, 'Row': 34, 'Section': 106},\n",
       " {'Beer_Rating': 6, 'Covered': 0, 'Row': 17, 'Section': 129},\n",
       " {'Beer_Rating': 6, 'Covered': 0, 'Row': 22, 'Section': 129},\n",
       " {'Beer_Rating': 6, 'Covered': 0, 'Row': 17, 'Section': 129},\n",
       " {'Beer_Rating': 5, 'Covered': 0, 'Row': 12, 'Section': 106},\n",
       " {'Beer_Rating': 5, 'Covered': 0, 'Row': 20, 'Section': 106},\n",
       " {'Beer_Rating': 5, 'Covered': 0, 'Row': 29, 'Section': 106}]"
      ]
     },
     "execution_count": 28,
     "metadata": {},
     "output_type": "execute_result"
    }
   ],
   "source": [
    "all_tickets"
   ]
  },
  {
   "cell_type": "code",
   "execution_count": 53,
   "metadata": {},
   "outputs": [],
   "source": [
    "df = pd.DataFrame(all_tickets)"
   ]
  },
  {
   "cell_type": "code",
   "execution_count": 30,
   "metadata": {},
   "outputs": [],
   "source": [
    "browser = Chrome()"
   ]
  },
  {
   "cell_type": "code",
   "execution_count": 31,
   "metadata": {},
   "outputs": [],
   "source": [
    "url = 'https://www.rateyourseats.com/tickets/events/arizona-state-sun-devils-at-washington-huskies-september-22-2018-2530478'\n",
    "browser.get(url)"
   ]
  },
  {
   "cell_type": "code",
   "execution_count": 51,
   "metadata": {},
   "outputs": [],
   "source": [
    "ticket_ratings = browser.find_elements_by_css_selector('li.ticket')"
   ]
  },
  {
   "cell_type": "code",
   "execution_count": 52,
   "metadata": {},
   "outputs": [],
   "source": [
    "ticket_ratings = [ticket_ratings[i].text.split('\\n') for i in range(len(ticket_ratings))]"
   ]
  },
  {
   "cell_type": "code",
   "execution_count": 62,
   "metadata": {},
   "outputs": [],
   "source": [
    "ratings = []\n",
    "for ticket in ticket_ratings:\n",
    "    sec = ticket[0].split(', ')[0].split(' ')[-1]\n",
    "    row = ticket[0].split(', ')[1].split(' ')[-1]\n",
    "    rating = len(ticket[1].split(' | ')[0])\n",
    "    num_tics = ticket[-3]\n",
    "    price = int(ticket[-1].split('/')[0][1:])\n",
    "    curr = {'Section': sec, 'Row': row, 'Rating': rating, \n",
    "            'No_Tickets': num_tics, 'Price': price}\n",
    "    ratings.append(curr)"
   ]
  },
  {
   "cell_type": "code",
   "execution_count": 64,
   "metadata": {},
   "outputs": [],
   "source": [
    "ratings_df = pd.DataFrame(ratings)"
   ]
  },
  {
   "cell_type": "code",
   "execution_count": 67,
   "metadata": {},
   "outputs": [],
   "source": [
    "ratings_df.loc[67, 'Row'] = 18\n",
    "\n",
    "ratings_df['Row'] = ratings_df['Row'].astype(int)\n",
    "\n",
    "ratings_df['Section'] = ratings_df['Section'].astype(int)\n",
    "\n",
    "ratings_df['No_Tickets'] = ratings_df['No_Tickets'].apply(lambda x: x.split('-')[-1])"
   ]
  },
  {
   "cell_type": "code",
   "execution_count": 77,
   "metadata": {},
   "outputs": [],
   "source": [
    "df.merge(ratings_df, on=['Section', 'Row']).to_csv('all_data.csv')"
   ]
  },
  {
   "cell_type": "code",
   "execution_count": null,
   "metadata": {},
   "outputs": [],
   "source": []
  }
 ],
 "metadata": {
  "kernelspec": {
   "display_name": "Python 3",
   "language": "python",
   "name": "python3"
  },
  "language_info": {
   "codemirror_mode": {
    "name": "ipython",
    "version": 3
   },
   "file_extension": ".py",
   "mimetype": "text/x-python",
   "name": "python",
   "nbconvert_exporter": "python",
   "pygments_lexer": "ipython3",
   "version": "3.6.3"
  }
 },
 "nbformat": 4,
 "nbformat_minor": 2
}
