{
 "cells": [
  {
   "cell_type": "code",
   "execution_count": 3,
   "metadata": {},
   "outputs": [],
   "source": [
    "import pandas as pd\n",
    "import numpy as np \n",
    "from selenium.webdriver import Chrome"
   ]
  },
  {
   "cell_type": "code",
   "execution_count": 4,
   "metadata": {},
   "outputs": [],
   "source": [
    "browser = Chrome()\n",
    "url = 'https://www.tickpick.com/buy-washington-huskies-vs-arizona-state-sun-devils-tickets-husky-stadium---wa-9-22-18-7PM/3330066/'\n",
    "browser.get(url)"
   ]
  },
  {
   "cell_type": "code",
   "execution_count": 21,
   "metadata": {},
   "outputs": [],
   "source": [
    "def scrape_listings(browser):\n",
    "    df = []\n",
    "    sel = 'div.listing'\n",
    "    ticket_info = browser.find_elements_by_css_selector(sel)\n",
    "    ticket_info = [tic.text.split('\\n') for tic in ticket_info]\n",
    "    for ticket in ticket_info:\n",
    "        ticket_dict = {}\n",
    "        ticket_dict['deal_rating'] = ticket[0]\n",
    "        ticket_dict['price'] = ticket[1].split('$')[1]\n",
    "        ticket_dict['avail_tics'] = ticket[3]\n",
    "        ticket_dict['Section'] = ticket[-3].split(' ')[1]\n",
    "        ticket_dict['Row'] = ticket[-3].split(' ')[-1]\n",
    "        ticket_dict['rating'] = ticket[-2].split('★')[0]\n",
    "        df.append(ticket_dict)\n",
    "    df = pd.DataFrame(df)\n",
    "    return df"
   ]
  },
  {
   "cell_type": "code",
   "execution_count": 23,
   "metadata": {},
   "outputs": [],
   "source": [
    "vs_asu = scrape_listings(browser)"
   ]
  },
  {
   "cell_type": "code",
   "execution_count": 24,
   "metadata": {},
   "outputs": [],
   "source": [
    "browser.get('https://www.tickpick.com/buy-washington-huskies-vs-byu-cougars-tickets-husky-stadium---wa-9-29-18-3AM/3330067/')"
   ]
  },
  {
   "cell_type": "code",
   "execution_count": 25,
   "metadata": {},
   "outputs": [],
   "source": [
    "vs_byu = scrape_listings(browser)"
   ]
  },
  {
   "cell_type": "code",
   "execution_count": 26,
   "metadata": {},
   "outputs": [],
   "source": [
    "browser.get('https://www.tickpick.com/buy-washington-huskies-vs-colorado-buffaloes-tickets-husky-stadium---wa-10-20-18-3AM/3330068/')"
   ]
  },
  {
   "cell_type": "code",
   "execution_count": 27,
   "metadata": {},
   "outputs": [],
   "source": [
    "vs_cu = scrape_listings(browser)"
   ]
  },
  {
   "cell_type": "code",
   "execution_count": 28,
   "metadata": {},
   "outputs": [],
   "source": [
    "browser.get('https://www.tickpick.com/buy-washington-huskies-vs-stanford-cardinal-tickets-husky-stadium---wa-11-3-18-3AM/3330069/')"
   ]
  },
  {
   "cell_type": "code",
   "execution_count": 29,
   "metadata": {},
   "outputs": [],
   "source": [
    "vs_stanford = scrape_listings(browser)"
   ]
  },
  {
   "cell_type": "code",
   "execution_count": 30,
   "metadata": {},
   "outputs": [],
   "source": [
    "browser.get('https://www.tickpick.com/buy-washington-huskies-vs-oregon-state-beavers-tickets-husky-stadium---wa-11-17-18-3AM/3330070/')"
   ]
  },
  {
   "cell_type": "code",
   "execution_count": 31,
   "metadata": {},
   "outputs": [],
   "source": [
    "vs_osu = scrape_listings(browser)"
   ]
  },
  {
   "cell_type": "code",
   "execution_count": 36,
   "metadata": {},
   "outputs": [],
   "source": [
    "def conversions(conv, columns):\n",
    "    for item in columns:\n",
    "        vs_asu[item] = vs_asu[item].astype(conv)\n",
    "        vs_byu[item] = vs_byu[item].astype(conv)\n",
    "        vs_cu[item] = vs_cu[item].astype(conv)\n",
    "        vs_stanford[item] = vs_stanford[item].astype(conv)\n",
    "        vs_osu[item] = vs_osu[item].astype(conv)"
   ]
  },
  {
   "cell_type": "code",
   "execution_count": 37,
   "metadata": {},
   "outputs": [],
   "source": [
    "conversions(int, ['Row','Section','avail_tics', 'price', 'rating'])"
   ]
  },
  {
   "cell_type": "code",
   "execution_count": 38,
   "metadata": {},
   "outputs": [
    {
     "data": {
      "text/plain": [
       "Row             int64\n",
       "Section         int64\n",
       "avail_tics      int64\n",
       "deal_rating    object\n",
       "price           int64\n",
       "rating          int64\n",
       "dtype: object"
      ]
     },
     "execution_count": 38,
     "metadata": {},
     "output_type": "execute_result"
    }
   ],
   "source": [
    "vs_asu.dtypes"
   ]
  },
  {
   "cell_type": "code",
   "execution_count": 39,
   "metadata": {},
   "outputs": [],
   "source": [
    "vs_asu.to_csv('asu.csv')\n",
    "vs_cu.to_csv('cu.csv')\n",
    "vs_stanford.to_csv('stanford.csv')\n",
    "vs_osu.to_csv('osu.csv')\n",
    "vs_byu.to_csv('byu.csv')"
   ]
  },
  {
   "cell_type": "code",
   "execution_count": null,
   "metadata": {},
   "outputs": [],
   "source": []
  }
 ],
 "metadata": {
  "kernelspec": {
   "display_name": "Python 3",
   "language": "python",
   "name": "python3"
  },
  "language_info": {
   "codemirror_mode": {
    "name": "ipython",
    "version": 3
   },
   "file_extension": ".py",
   "mimetype": "text/x-python",
   "name": "python",
   "nbconvert_exporter": "python",
   "pygments_lexer": "ipython3",
   "version": "3.6.3"
  }
 },
 "nbformat": 4,
 "nbformat_minor": 2
}
