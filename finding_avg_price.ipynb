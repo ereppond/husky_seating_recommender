{
 "cells": [
  {
   "cell_type": "code",
   "execution_count": 13,
   "metadata": {},
   "outputs": [],
   "source": [
    "import pandas as pd\n",
    "from selenium.webdriver import Chrome\n",
    "import time"
   ]
  },
  {
   "cell_type": "code",
   "execution_count": 2,
   "metadata": {},
   "outputs": [],
   "source": [
    "asu = pd.read_csv('all_data.csv')\n",
    "asu = asu[['Section', 'Row', 'Price']]"
   ]
  },
  {
   "cell_type": "code",
   "execution_count": 52,
   "metadata": {},
   "outputs": [],
   "source": [
    "def find_prices(browser):\n",
    "    tickets = browser.find_elements_by_css_selector('li.ticket')\n",
    "    tickets = [tickets[i].text.split('\\n') for i in range(len(tickets))]\n",
    "    prices = []\n",
    "    for ticket in tickets:\n",
    "        sec = ticket[0].split(', ')[0].split(' ')[-1]\n",
    "        if len(ticket[0].split(', ')) == 1:\n",
    "            row = 'Zone Seating'\n",
    "        else:\n",
    "            row = ticket[0].split(', ')[1].split(' ')[-1]\n",
    "        price = int(ticket[-1].split('/')[0][1:])\n",
    "        curr = {'Section': sec, 'Row': row, 'Price': price}\n",
    "        prices.append(curr)\n",
    "    return prices"
   ]
  },
  {
   "cell_type": "code",
   "execution_count": 26,
   "metadata": {},
   "outputs": [],
   "source": [
    "browser = Chrome()\n",
    "browser.get('https://www.rateyourseats.com/tickets/events/byu-cougars-at-washington-huskies-september-29-2018-2530479')"
   ]
  },
  {
   "cell_type": "code",
   "execution_count": 55,
   "metadata": {},
   "outputs": [],
   "source": [
    "byu = find_prices(browser)"
   ]
  },
  {
   "cell_type": "code",
   "execution_count": 37,
   "metadata": {},
   "outputs": [],
   "source": [
    "browser = Chrome()\n",
    "url = 'https://www.rateyourseats.com/tickets/events/colorado-buffaloes-at-washington-huskies-october-20-2018-2530480'"
   ]
  },
  {
   "cell_type": "code",
   "execution_count": 53,
   "metadata": {},
   "outputs": [],
   "source": [
    "cu = find_prices(browser)"
   ]
  },
  {
   "cell_type": "code",
   "execution_count": 58,
   "metadata": {},
   "outputs": [],
   "source": [
    "stanford = find_prices(browser)"
   ]
  },
  {
   "cell_type": "code",
   "execution_count": 59,
   "metadata": {},
   "outputs": [],
   "source": [
    "osu = find_prices(browser)"
   ]
  },
  {
   "cell_type": "code",
   "execution_count": 67,
   "metadata": {},
   "outputs": [],
   "source": [
    "cu = pd.DataFrame(cu)\n",
    "stanford = pd.DataFrame(stanford)\n",
    "osu = pd.DataFrame(osu)\n",
    "byu = pd.DataFrame(byu)"
   ]
  },
  {
   "cell_type": "markdown",
   "metadata": {},
   "source": [
    "find average prices"
   ]
  },
  {
   "cell_type": "code",
   "execution_count": 71,
   "metadata": {},
   "outputs": [],
   "source": [
    "avg_price = pd.concat([asu, cu, stanford, osu, byu]).groupby(['Section', 'Row']).mean().reset_index()"
   ]
  },
  {
   "cell_type": "code",
   "execution_count": 74,
   "metadata": {},
   "outputs": [],
   "source": [
    "avg_price['Price'] = avg_price['Price'].round(2)"
   ]
  },
  {
   "cell_type": "code",
   "execution_count": null,
   "metadata": {},
   "outputs": [],
   "source": []
  }
 ],
 "metadata": {
  "kernelspec": {
   "display_name": "Python 3",
   "language": "python",
   "name": "python3"
  },
  "language_info": {
   "codemirror_mode": {
    "name": "ipython",
    "version": 3
   },
   "file_extension": ".py",
   "mimetype": "text/x-python",
   "name": "python",
   "nbconvert_exporter": "python",
   "pygments_lexer": "ipython3",
   "version": "3.6.3"
  }
 },
 "nbformat": 4,
 "nbformat_minor": 2
}
